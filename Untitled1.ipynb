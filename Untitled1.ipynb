{
 "cells": [
  {
   "cell_type": "code",
   "execution_count": 3,
   "id": "b38b8f96",
   "metadata": {},
   "outputs": [],
   "source": [
    "#twitter API dependencies\n",
    "import os\n",
    "# from os import path\n",
    "\n",
    "# Module for reading CSV files\n",
    "import matplotlib.pyplot as plt\n",
    "import pandas as pd\n",
    "import numpy as np\n",
    "import requests\n",
    "import time\n",
    "from pprint import pprint\n",
    "from scipy.stats import linregress\n",
    "import json\n",
    "\n",
    "#sageworks specific\n",
    "import oauth2 as oauth\n",
    "import urllib.request #for url-encode\n",
    "import urllib3 as urllib #for getting and reciving data from server\n",
    "import time #unix timestamp import oauth2"
   ]
  },
  {
   "cell_type": "code",
   "execution_count": null,
   "id": "26022498",
   "metadata": {},
   "outputs": [],
   "source": [
    "bearT = 'AAAAAAAAAAAAAAAAAAAAAM7pkQEAAAAAKh%2FQ6pKDeK0uCpD3dumRa2V09eA%3D4Hgvbiq2tPwZ0KhDCmSKLWe4E0jI57pMOidWigBygCIz0SGS6k'"
   ]
  },
  {
   "cell_type": "code",
   "execution_count": 11,
   "id": "a67c62a9",
   "metadata": {},
   "outputs": [
    {
     "data": {
      "text/plain": [
       "{'token_type': 'bearer',\n",
       " 'access_token': 'AAAAAAAAAAAAAAAAAAAAAM7pkQEAAAAAKh%2FQ6pKDeK0uCpD3dumRa2V09eA%3D4Hgvbiq2tPwZ0KhDCmSKLWe4E0jI57pMOidWigBygCIz0SGS6k'}"
      ]
     },
     "execution_count": 11,
     "metadata": {},
     "output_type": "execute_result"
    }
   ],
   "source": [
    "base_url = \"https://api.twitter.com/oauth2/token\"\n",
    "\n",
    "bearer_token = requests.post(base_url, data={\"client_id\":\"mafeBoT1BjZmBei3VFVrCniIZ\",\n",
    "                                           \"client_secret\":\"SCHIypiLCenhSGOccDyCJyOChmrtsWZphpA2vwWHoTRF3vOtcN\",\n",
    "                                           \"grant_type\": \"client_credentials\"}).json()\n",
    "bearer_token"
   ]
  },
  {
   "cell_type": "code",
   "execution_count": null,
   "id": "452be8e7",
   "metadata": {},
   "outputs": [],
   "source": [
    "pri"
   ]
  },
  {
   "cell_type": "code",
   "execution_count": 15,
   "id": "0e0a54ba",
   "metadata": {},
   "outputs": [
    {
     "data": {
      "text/plain": [
       "'Bearer AAAAAAAAAAAAAAAAAAAAAM7pkQEAAAAAKh%2FQ6pKDeK0uCpD3dumRa2V09eA%3D4Hgvbiq2tPwZ0KhDCmSKLWe4E0jI57pMOidWigBygCIz0SGS6k'"
      ]
     },
     "execution_count": 15,
     "metadata": {},
     "output_type": "execute_result"
    }
   ],
   "source": [
    "B_Tok = f\"Bearer {bearer_token['access_token']}\"\n",
    "B_Tok"
   ]
  },
  {
   "cell_type": "code",
   "execution_count": 22,
   "id": "eb37c53e",
   "metadata": {},
   "outputs": [
    {
     "data": {
      "text/plain": [
       "{'data': {'id': '44196397', 'name': 'Elon Musk', 'username': 'elonmusk'}}"
      ]
     },
     "execution_count": 22,
     "metadata": {},
     "output_type": "execute_result"
    }
   ],
   "source": [
    "#get elon's twitter id\n",
    "headers = {\n",
    "    'Accept' : '0',\n",
    "    'Authorization': B_Tok\n",
    "}\n",
    "\n",
    "#define first request\n",
    "r = requests.get('https://api.twitter.com/2/users/by/username/elonmusk',\n",
    "                 params={\n",
    "                     \n",
    "                 }, headers=headers).json()\n",
    "r"
   ]
  },
  {
   "cell_type": "raw",
   "id": "c06ebc9a",
   "metadata": {},
   "source": [
    "elonID = r['data']['id']\n",
    "print(elonID)"
   ]
  }
 ],
 "metadata": {
  "kernelspec": {
   "display_name": "Python [conda env:PythonDataOne]",
   "language": "python",
   "name": "conda-env-PythonDataOne-py"
  },
  "language_info": {
   "codemirror_mode": {
    "name": "ipython",
    "version": 3
   },
   "file_extension": ".py",
   "mimetype": "text/x-python",
   "name": "python",
   "nbconvert_exporter": "python",
   "pygments_lexer": "ipython3",
   "version": "3.7.7"
  }
 },
 "nbformat": 4,
 "nbformat_minor": 5
}
