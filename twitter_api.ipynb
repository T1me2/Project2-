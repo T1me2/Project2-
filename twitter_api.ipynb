{
 "cells": [
  {
   "cell_type": "code",
   "execution_count": 1,
   "id": "1a82cc5a",
   "metadata": {},
   "outputs": [],
   "source": [
    "#twitter API dependencies\n",
    "import os\n",
    "# from os import path\n",
    "\n",
    "# Module for reading CSV files\n",
    "import matplotlib.pyplot as plt\n",
    "import pandas as pd\n",
    "import numpy as np\n",
    "import requests\n",
    "import time\n",
    "from pprint import pprint\n",
    "from scipy.stats import linregress\n",
    "import json\n",
    "from Jacks_config import client_id\n",
    "from Jacks_config import client_secret\n",
    "import nasdaqdatalink\n",
    "\n",
    "\n",
    "\n",
    " \n",
    "import urllib.request #for url-encode\n",
    "import urllib3 as urllib #for getting and reciving data from server\n",
    "import time #unix timestamp import oauth2"
   ]
  },
  {
   "cell_type": "code",
   "execution_count": null,
   "id": "1db92609",
   "metadata": {},
   "outputs": [],
   "source": [
    "base_url = \"https://api.twitter.com/oauth2/token\"\n",
    "\n",
    "bearer_token = requests.post(base_url, data={\"client_id\":client_id,\n",
    "                                           \"client_secret\":client_secret,\n",
    "                                           \"grant_type\": \"client_credentials\"}).json()\n",
    "bearer_token"
   ]
  },
  {
   "cell_type": "code",
   "execution_count": null,
   "id": "552c46c1",
   "metadata": {},
   "outputs": [],
   "source": [
    "#put token in format for requests\n",
    "B_Tok = f\"Bearer {bearer_token['access_token']}\"\n",
    "B_Tok"
   ]
  },
  {
   "cell_type": "code",
   "execution_count": null,
   "id": "6554803b",
   "metadata": {},
   "outputs": [],
   "source": [
    "#get elon's twitter id\n",
    "headers = {\n",
    "    'Accept' : '0',\n",
    "    'Authorization': B_Tok\n",
    "}\n",
    "\n",
    "#define first request\n",
    "E_twitterID = requests.get('https://api.twitter.com/2/users/by/username/elonmusk',\n",
    "                 params={\n",
    "                     \n",
    "                 }, headers=headers).json()\n",
    "E_twitterID"
   ]
  },
  {
   "cell_type": "code",
   "execution_count": null,
   "id": "5bb1f5e8",
   "metadata": {},
   "outputs": [],
   "source": [
    "#Get Elon's tweets\n",
    "search_url = 'https://api.twitter.com/2/users/44196397/tweets'\n",
    "Response = []\n",
    "headers = {\n",
    "    'Accept' : '0',\n",
    "    'Authorization': B_Tok\n",
    "}\n",
    "\n",
    "params = {'max_results':100,\n",
    "          'tweet.fields': 'created_at'\n",
    "          \n",
    "}\n",
    "\n",
    "#define first request\n",
    "tweet_count = requests.get(search_url,\n",
    "                           params=params, headers=headers).json()\n",
    "Response.append(tweet_count)\n",
    "pprint(tweet_count)\n",
    "\n",
    "while tweet_count['meta']['next_token']:\n",
    "    params['pagination_token'] = tweet_count['meta']['next_token']\n",
    "    tweet_count = requests.get(search_url,\n",
    "                           params=params, headers=headers).json()\n",
    "    Response.append(tweet_count)\n"
   ]
  },
  {
   "cell_type": "code",
   "execution_count": null,
   "id": "2d105c3f",
   "metadata": {},
   "outputs": [],
   "source": [
    "#Look at JSON response\n",
    "Response"
   ]
  },
  {
   "cell_type": "code",
   "execution_count": null,
   "id": "ec3ca59a",
   "metadata": {},
   "outputs": [],
   "source": [
    "#get number of responses\n",
    "response_len = len(Response)\n",
    "response_len\n"
   ]
  },
  {
   "cell_type": "code",
   "execution_count": null,
   "id": "893c4c76",
   "metadata": {},
   "outputs": [],
   "source": [
    "#save each peice of information we want to a list\n",
    "tweet_id = []\n",
    "tweets = []\n",
    "tweet_date = []\n",
    "\n",
    "\n",
    "\n",
    "for i in range(0, response_len-1):\n",
    "    Response[i]\n",
    "    for x in range(0, 99):\n",
    "        tweet_id.append(Response[i]['data'][x]['id'])\n",
    "        tweets.append(Response[i]['data'][x]['text'])\n",
    "        tweet_date.append(Response[i]['data'][x]['created_at'])\n",
    "        \n",
    "        "
   ]
  },
  {
   "cell_type": "code",
   "execution_count": null,
   "id": "f714cf82",
   "metadata": {},
   "outputs": [],
   "source": [
    "#clean the date so it is just the date without time\n",
    "tweet_date\n",
    "tweet_date_len = len(tweet_date)\n",
    "tweet_date_cleaned = []\n",
    "\n",
    "for i in range(0,tweet_date_len):\n",
    "    tweet_date_cleaned.append(tweet_date[i][0:10])\n",
    "tweet_date_cleaned"
   ]
  },
  {
   "cell_type": "code",
   "execution_count": null,
   "id": "236f43b3",
   "metadata": {},
   "outputs": [],
   "source": [
    "#get bool responses on if twitter or tesla was mentioned and save to list\n",
    "\n",
    "tesla_bool = []\n",
    "twitter_bool = []\n",
    "\n",
    "for i in range(0, tweet_date_len):\n",
    "    tesla_bool.append((\"Tesla\" or \"TSLA\") in tweets[i])\n",
    "    twitter_bool.append((\"Twitter\" or \"TWTR\") in tweets[i])\n",
    "\n",
    "tesla_bool"
   ]
  },
  {
   "cell_type": "code",
   "execution_count": null,
   "id": "3d49ddef",
   "metadata": {},
   "outputs": [],
   "source": [
    "#add lists into a dictionary\n",
    "tweet_info = {'tweet_date': tweet_date_cleaned, 'tweet_text': tweets, 'tesla_mention': tesla_bool, 'twitter_mention': twitter_bool}"
   ]
  },
  {
   "cell_type": "code",
   "execution_count": null,
   "id": "21a61cf6",
   "metadata": {},
   "outputs": [],
   "source": [
    "#view in df, problem with this DF is it has multiple tweets for each date\n",
    "tweet_info_df = pd.DataFrame(tweet_info)\n",
    "tweet_info_df.head()"
   ]
  },
  {
   "cell_type": "code",
   "execution_count": null,
   "id": "dee21c80",
   "metadata": {},
   "outputs": [],
   "source": [
    "#find unique date values\n",
    "single_dates = []\n",
    "\n",
    "df_len = len(tweet_info_df['tweet_date'].unique())\n",
    "\n",
    "for i in tweet_info_df:\n",
    "    single_dates.append(tweet_info_df['tweet_date'].unique())\n",
    "    \n",
    "single_dates"
   ]
  },
  {
   "cell_type": "code",
   "execution_count": null,
   "id": "7603b798",
   "metadata": {},
   "outputs": [],
   "source": [
    "#select only first array so I have one list of unique values \n",
    "clean_dates = single_dates.pop(1)\n",
    "clean_dates"
   ]
  },
  {
   "cell_type": "code",
   "execution_count": null,
   "id": "da40d434",
   "metadata": {},
   "outputs": [],
   "source": [
    "#loop through single dates and insert a true or false statement based on if elon mentions twitter or tesla on given date\n",
    "\n",
    "cleaned_dates_len = len(clean_dates)\n",
    "print(cleaned_dates_len)\n",
    "\n",
    "single_date_tesla_bool = []\n",
    "single_date_twitter_bool = []\n",
    "\n",
    "for i in range(0,cleaned_dates_len):\n",
    "    clean_dates[i]\n",
    "    for  x in range (0, tweet_date_len):\n",
    "        if clean_dates[i] == tweet_date_cleaned[x] and tesla_bool[x] == True:\n",
    "            single_date_tesla_bool.append('True')\n",
    "            break\n",
    "        elif clean_dates[i] != tweet_date_cleaned[x] and clean_dates[i] == tweet_date_cleaned[x-1]:\n",
    "            single_date_tesla_bool.append('False')\n",
    "            break\n",
    "\n",
    "for o in range(0,cleaned_dates_len):\n",
    "    clean_dates[o]\n",
    "    for  y in range (0, tweet_date_len):\n",
    "        if clean_dates[o] == tweet_date_cleaned[y] and twitter_bool[y] == True:\n",
    "            single_date_twitter_bool.append('True')\n",
    "            break\n",
    "        elif clean_dates[o] != tweet_date_cleaned[y] and clean_dates[o] == tweet_date_cleaned[y-1]:\n",
    "            single_date_twitter_bool.append('False')\n",
    "            break\n",
    "            \n",
    "\n",
    "        "
   ]
  },
  {
   "cell_type": "code",
   "execution_count": null,
   "id": "699981dd",
   "metadata": {},
   "outputs": [],
   "source": [
    "#test to double check length is correct\n",
    "print(len(single_date_tesla_bool))"
   ]
  },
  {
   "cell_type": "code",
   "execution_count": null,
   "id": "d27cc9a5",
   "metadata": {},
   "outputs": [],
   "source": [
    "single_date_tesla_bool"
   ]
  },
  {
   "cell_type": "code",
   "execution_count": null,
   "id": "ebfdfdb0",
   "metadata": {},
   "outputs": [],
   "source": [
    "#combine single dates, and mention bool statements into DF\n",
    "\n",
    "single_date_tweet_info = {'tweet_date': clean_dates, 'tesla_mention': single_date_tesla_bool,\n",
    "                          'twitter_mention': single_date_twitter_bool}\n",
    "\n",
    "#convert to df\n",
    "single_date_df = pd.DataFrame(single_date_tweet_info)\n",
    "single_date_df"
   ]
  },
  {
   "cell_type": "code",
   "execution_count": null,
   "id": "80f30cbd",
   "metadata": {},
   "outputs": [],
   "source": [
    "single_date_df.to_csv('data_files/tweet_mentions.csv', index=False)"
   ]
  },
  {
   "cell_type": "code",
   "execution_count": null,
   "id": "c6ada128",
   "metadata": {},
   "outputs": [],
   "source": []
  }
 ],
 "metadata": {
  "kernelspec": {
   "display_name": "Python [conda env:PythonDataOne]",
   "language": "python",
   "name": "conda-env-PythonDataOne-py"
  },
  "language_info": {
   "codemirror_mode": {
    "name": "ipython",
    "version": 3
   },
   "file_extension": ".py",
   "mimetype": "text/x-python",
   "name": "python",
   "nbconvert_exporter": "python",
   "pygments_lexer": "ipython3",
   "version": "3.7.7"
  }
 },
 "nbformat": 4,
 "nbformat_minor": 5
}
