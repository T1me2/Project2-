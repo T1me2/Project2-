{
 "cells": [
  {
   "cell_type": "code",
   "execution_count": 1,
   "id": "9f965432",
   "metadata": {},
   "outputs": [],
   "source": [
    "#Dependencies \n",
    "\n",
    "import os\n",
    "import pandas as pd\n",
    "import numpy as np\n",
    "import requests\n",
    "import time\n",
    "from pprint import pprint\n",
    "import nasdaqdatalink\n",
    "# from os import path\n",
    "from Jacks_config import nasdaq_key\n"
   ]
  },
  {
   "cell_type": "code",
   "execution_count": null,
   "id": "41be4f63",
   "metadata": {},
   "outputs": [],
   "source": [
    "#get Tesla financial data\n",
    "nasdaqdatalink.ApiConfig.api_key= nasdaq_key\n",
    "tesla_data = nasdaqdatalink.get_table('SHARADAR/SEP', ticker='TSLA')\n",
    "tesla_data"
   ]
  },
  {
   "cell_type": "code",
   "execution_count": null,
   "id": "07e14f9e",
   "metadata": {},
   "outputs": [],
   "source": [
    "#send Tesla data to CSV\n",
    "tesla_data.to_csv(\"data_files/tesla_ticker.csv\", index=False)"
   ]
  },
  {
   "cell_type": "code",
   "execution_count": null,
   "id": "f0eca102",
   "metadata": {},
   "outputs": [],
   "source": [
    "#get twitter info\n",
    "twitter_data = nasdaqdatalink.get_table('SHARADAR/SEP', ticker='TWTR')\n",
    "twitter_data"
   ]
  },
  {
   "cell_type": "code",
   "execution_count": null,
   "id": "d4b839fe",
   "metadata": {},
   "outputs": [],
   "source": [
    "#send Twitter data to CSV\n",
    "twitter_data.to_csv(\"data_files/twitter_ticker.csv\", index=False)"
   ]
  }
 ],
 "metadata": {
  "kernelspec": {
   "display_name": "Python [conda env:PythonDataOne]",
   "language": "python",
   "name": "conda-env-PythonDataOne-py"
  },
  "language_info": {
   "codemirror_mode": {
    "name": "ipython",
    "version": 3
   },
   "file_extension": ".py",
   "mimetype": "text/x-python",
   "name": "python",
   "nbconvert_exporter": "python",
   "pygments_lexer": "ipython3",
   "version": "3.7.7"
  }
 },
 "nbformat": 4,
 "nbformat_minor": 5
}
