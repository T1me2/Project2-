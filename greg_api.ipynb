{
 "cells": [
  {
   "cell_type": "code",
   "execution_count": 44,
   "metadata": {},
   "outputs": [],
   "source": [
    "\n",
    "# For sending GET requests from the API\n",
    "import base64\n",
    "import requests\n",
    "# For saving access tokens and for file management when creating and adding to the dataset\n",
    "import os\n",
    "# For dealing with json responses we receive from the API\n",
    "import json\n",
    "# For displaying the data after\n",
    "import pandas as pd\n",
    "# For saving the response data in CSV format\n",
    "import csv\n",
    "# For parsing the dates received from twitter in readable formats\n",
    "import datetime\n",
    "import dateutil.parser\n",
    "import unicodedata\n",
    "#To add wait time between requests\n",
    "import time"
   ]
  },
  {
   "cell_type": "code",
   "execution_count": 45,
   "metadata": {},
   "outputs": [],
   "source": [
    "\n",
    "apiKey = 'cKQYfwlbziKm0lpVm5aiZg0Km'\n",
    "apiSecret = 'PKgGzpUNIC3lg2YjTnbE7JjdaZnp84KhI1VmxCtT29zZDRJFAR'\n",
    "\n",
    "key_secret = '{}:{}'.format(apiKey, apiSecret).encode('ascii')\n",
    "b64_encoded_key = base64.b64encode(key_secret)\n",
    "b64_encoded_key = b64_encoded_key.decode('ascii')"
   ]
  },
  {
   "cell_type": "code",
   "execution_count": 46,
   "metadata": {},
   "outputs": [
    {
     "name": "stdout",
     "output_type": "stream",
     "text": [
      "<Response [200]>\n"
     ]
    }
   ],
   "source": [
    "base_url = 'https://api.twitter.com/'\n",
    "auth_url = '{}oauth2/token'.format(base_url)\n",
    "\n",
    "auth_headers = {\n",
    "    'Authorization': 'Basic {}'.format(b64_encoded_key),\n",
    "    'Content-Type': 'application/x-www-form-urlencoded;charset=UTF-8'\n",
    "}\n",
    "\n",
    "auth_data = {\n",
    "    'grant_type': 'client_credentials'\n",
    "}\n",
    "\n",
    "auth_resp = requests.post(auth_url, headers=auth_headers, data=auth_data)\n",
    "\n",
    "print(auth_resp)\n",
    "\n"
   ]
  },
  {
   "cell_type": "code",
   "execution_count": 47,
   "metadata": {},
   "outputs": [],
   "source": [
    "auth_resp.json().keys()\n",
    "access_token = auth_resp.json()['access_token']\n",
    "\n",
    "access_token_string = f'Bearer {access_token}'"
   ]
  },
  {
   "cell_type": "code",
   "execution_count": 48,
   "metadata": {},
   "outputs": [
    {
     "name": "stdout",
     "output_type": "stream",
     "text": [
      "Bearer AAAAAAAAAAAAAAAAAAAAAMLpkQEAAAAACb4EO3Ul3PzisihflMKhgLZRg9Y%3DvfrNVxXRJ9EShnkqnZ88BRwcSSRjHNZCBSEQlfgvcXe8fSq1gY\n"
     ]
    }
   ],
   "source": [
    "print(access_token_string)"
   ]
  },
  {
   "cell_type": "code",
   "execution_count": 53,
   "metadata": {},
   "outputs": [
    {
     "name": "stdout",
     "output_type": "stream",
     "text": [
      "{'data': {'id': '44196397', 'name': 'Elon Musk', 'username': 'elonmusk'}}\n",
      "<Response [403]>\n"
     ]
    }
   ],
   "source": [
    "headers = {\n",
    "    'Accept' : '0',\n",
    "    'Authorization': access_token_string\n",
    "}\n",
    "\n",
    "#define first request\n",
    "elonAccount = requests.get('https://api.twitter.com/2/users/by/username/elonmusk',\n",
    "                 params={\n",
    "                 }, headers=headers).json()\n",
    "\n",
    "#request elon tweets\n",
    "tweetTimeline = requests.get('https://api.twitter.com/2/users/44196397/timelines/reverse_chronological', headers=headers, params=params)\n",
    "\n",
    "print(elonAccount)\n",
    "print(tweetTimeline)\n",
    "\n",
    "# elonId = elonAccount['id']\n",
    "# elonId "
   ]
  },
  {
   "cell_type": "code",
   "execution_count": 20,
   "metadata": {},
   "outputs": [
    {
     "data": {
      "text/plain": [
       "{'title': 'Unsupported Authentication',\n",
       " 'detail': 'Authenticating with OAuth 2.0 Application-Only is forbidden for this endpoint.  Supported authentication types are [OAuth 2.0 User Context, OAuth 1.0a User Context].',\n",
       " 'type': 'https://api.twitter.com/2/problems/unsupported-authentication',\n",
       " 'status': 403}"
      ]
     },
     "execution_count": 20,
     "metadata": {},
     "output_type": "execute_result"
    }
   ],
   "source": [
    "r = requests.get('https://api.twitter.com/2/users/:id/timelines/reverse_chronological',\n",
    "                 params={\n",
    "                 }, headers=headers).json()\n",
    "r\n",
    "\n",
    "# ?tweet.fields=created_at&expansions=author_id&user.fields=created_at&max_results=5\n",
    "\n",
    "# WGQ4aWlNZ3hDZklTQ3RMeGN6TU1TZFVURl8wQ0FCSnlKTXpMUl93djFndVpJOjE2NzE0MDU4NzA4MDk6MTowOmFjOjE"
   ]
  },
  {
   "cell_type": "code",
   "execution_count": 51,
   "metadata": {},
   "outputs": [
    {
     "name": "stdout",
     "output_type": "stream",
     "text": [
      "<Response [403]>\n"
     ]
    }
   ],
   "source": [
    "# Encode the API keys and secrets for use in the request header\n",
    "bearer_token = base64.b64encode(f'{apiKey}:{apiSecret}'.encode())\n",
    "\n",
    "# Set up the request headers\n",
    "# headers = {\n",
    "#     'Authorization': f'Basic {bearer_token.decode()}',\n",
    "#     'Content-Type': 'application/x-www-form-urlencoded;charset=UTF-8'\n",
    "# }\n",
    "\n",
    "headers = {\n",
    "    'Accept' : '0',\n",
    "    'Authorization': access_token_string\n",
    "}\n",
    "\n",
    "# Set up the request body\n",
    "data = 'grant_type=refresh_token'\n",
    "\n",
    "# Send the request to the Twitter API to get an access token\n",
    "response = requests.post('https://api.twitter.com/oauth2/token', headers=headers, data=data)\n",
    "\n",
    "# Extract the access token from the response\n",
    "# access_token = response.json()['access_token']\n",
    "\n",
    "print(response)"
   ]
  },
  {
   "cell_type": "code",
   "execution_count": 54,
   "metadata": {},
   "outputs": [
    {
     "name": "stdout",
     "output_type": "stream",
     "text": [
      "<Response [403]>\n"
     ]
    }
   ],
   "source": [
    "# Set up the request headers for the timeline request\n",
    "headers = {\n",
    "    'Authorization': access_token_string,\n",
    "    'Content-Type': 'application/x-www-form-urlencoded;charset=UTF-8'\n",
    "}\n",
    "\n",
    "# Set up the request parameters for the timeline request\n",
    "params = {\n",
    "    'screen_name': 'elonmusk',  # Replace with the username of the Twitter user\n",
    "    'count': 200,  # The maximum number of tweets to return (up to a maximum of 3200)\n",
    "    'exclude_replies': True,  # Do not include replies in the timeline\n",
    "    'include_rts': False,  # Do not include retweets in the timeline\n",
    "}\n",
    "\n",
    "# Send the request to the Twitter API to get the timeline\n",
    "response = requests.get('https://api.twitter.com/2/users/44196397/timelines/reverse_chronological', headers=headers, params=params)\n",
    "print(response)\n",
    "\n"
   ]
  }
 ],
 "metadata": {
  "kernelspec": {
   "display_name": "Python 3.9.12 ('base')",
   "language": "python",
   "name": "python3"
  },
  "language_info": {
   "codemirror_mode": {
    "name": "ipython",
    "version": 3
   },
   "file_extension": ".py",
   "mimetype": "text/x-python",
   "name": "python",
   "nbconvert_exporter": "python",
   "pygments_lexer": "ipython3",
   "version": "3.9.12"
  },
  "orig_nbformat": 4,
  "vscode": {
   "interpreter": {
    "hash": "361deaac8fffbe9850460e0290947570dc6946d11c04bcf3d64a6949b52b1f1b"
   }
  }
 },
 "nbformat": 4,
 "nbformat_minor": 2
}
