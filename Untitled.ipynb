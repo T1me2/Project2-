{
 "cells": [
  {
   "cell_type": "code",
   "execution_count": 4,
   "id": "f47aa535",
   "metadata": {},
   "outputs": [],
   "source": [
    "#Dependencies \n",
    "\n",
    "import os\n",
    "import pandas as pd\n",
    "import numpy as np\n",
    "import requests\n",
    "import time\n",
    "from pprint import pprint\n",
    "# from os import path\n",
    "from Jacks_config import api_key"
   ]
  }
 ],
 "metadata": {
  "kernelspec": {
   "display_name": "Python [conda env:PythonDataOne]",
   "language": "python",
   "name": "conda-env-PythonDataOne-py"
  },
  "language_info": {
   "codemirror_mode": {
    "name": "ipython",
    "version": 3
   },
   "file_extension": ".py",
   "mimetype": "text/x-python",
   "name": "python",
   "nbconvert_exporter": "python",
   "pygments_lexer": "ipython3",
   "version": "3.7.7"
  }
 },
 "nbformat": 4,
 "nbformat_minor": 5
}
